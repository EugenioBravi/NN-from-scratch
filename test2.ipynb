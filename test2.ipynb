{
 "cells": [
  {
   "cell_type": "code",
   "execution_count": 4,
   "metadata": {},
   "outputs": [],
   "source": [
    "import random\n",
    "inputs = [1,2,3]\n",
    "weights = [0.2, 0.8, -0.5]\n",
    "bias = 2"
   ]
  },
  {
   "cell_type": "code",
   "execution_count": 59,
   "metadata": {},
   "outputs": [],
   "source": [
    "class Neuron():\n",
    "\n",
    "    def __init__(self,n_weights: int,bias : float = round(random.uniform(-10,10),2) ) -> None:\n",
    "\n",
    "        if type(n_weights) != int or n_weights <= 0 or n_weights >20 :\n",
    "            raise Exception('The param n_weights should be an int beetwen 1 and 20')\n",
    "\n",
    "        self.weights = [round(random.uniform(-10,10),2) for _ in range(n_weights)] \n",
    "        self.bias = bias\n",
    "\n",
    "    def forward(self,input : list[float]) -> list[float]:\n",
    "        if type(input) != list or len(input) != len(self.weights):\n",
    "            raise Exception('The input should be a list of len(weight)')\n",
    "        output = bias\n",
    "        for input,weight in zip(input,self.weights):\n",
    "            output += input * weight\n",
    "\n",
    "        return output"
   ]
  },
  {
   "cell_type": "code",
   "execution_count": 76,
   "metadata": {},
   "outputs": [],
   "source": [
    "class Layer():\n",
    "    def __init__(self,n_neurons:int,n_weights:int) -> None:\n",
    "        if type(n_neurons) != int or n_neurons <= 0 or n_neurons >20 :\n",
    "            raise Exception('The param n_neurons should be an int beetwen 1 and 20')\n",
    "        if type(n_weights) != int or n_weights <= 0 or n_weights >20 :\n",
    "            raise Exception('The param n_weights should be an int beetwen 1 and 20')\n",
    "        self.neurons=[Neuron(n_weights) for _ in range(n_neurons)]\n",
    "        self.n_weights = n_weights \n",
    "        \n",
    "    def forward(self,input:[float]):\n",
    "        if type(input) != list or len(input) != self.n_weights:\n",
    "            raise Exception('The input should be a list of len(weight)')\n",
    "        output=[]\n",
    "        for neuron in self.neurons:\n",
    "            output.append(neuron.forward(input))\n",
    "        return output"
   ]
  },
  {
   "cell_type": "code",
   "execution_count": 77,
   "metadata": {},
   "outputs": [],
   "source": [
    "random.seed(10)\n",
    "layer = Layer(5,3)"
   ]
  },
  {
   "cell_type": "code",
   "execution_count": 85,
   "metadata": {},
   "outputs": [
    {
     "data": {
      "text/plain": [
       "[5.27, 28.07, -7.299999999999999, 15.74, 15.310000000000002]"
      ]
     },
     "execution_count": 85,
     "metadata": {},
     "output_type": "execute_result"
    }
   ],
   "source": [
    "output= layer.forward([1,2,3])\n",
    "output"
   ]
  }
 ],
 "metadata": {
  "kernelspec": {
   "display_name": "Python 3",
   "language": "python",
   "name": "python3"
  },
  "language_info": {
   "codemirror_mode": {
    "name": "ipython",
    "version": 3
   },
   "file_extension": ".py",
   "mimetype": "text/x-python",
   "name": "python",
   "nbconvert_exporter": "python",
   "pygments_lexer": "ipython3",
   "version": "3.11.2"
  }
 },
 "nbformat": 4,
 "nbformat_minor": 2
}
