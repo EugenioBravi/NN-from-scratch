{
 "cells": [
  {
   "cell_type": "code",
   "execution_count": 9,
   "metadata": {},
   "outputs": [],
   "source": [
    "from typing import Type\n",
    "import random\n",
    "import numpy as np\n",
    "import matplotlib.pyplot as plt\n",
    "\n",
    "from nn import nn\n",
    "from datasets import spiral_dataset, data_split\n"
   ]
  },
  {
   "cell_type": "code",
   "execution_count": 19,
   "metadata": {},
   "outputs": [],
   "source": [
    "X, y = spiral_dataset(150,3)\n",
    "X_train, X_test, y_train, y_test = data_split(X,y,0.8)\n",
    "#plt.scatter(X[:, 0], X[:, 1], c=y, cmap='brg')\n",
    "#plt.show()"
   ]
  },
  {
   "cell_type": "code",
   "execution_count": 20,
   "metadata": {},
   "outputs": [],
   "source": [
    "random.seed(0)\n",
    "net = nn.Network()\n",
    "layers = [nn.Layer(2,5),nn.Layer(5,3)]\n",
    "net.add_layer(layers)"
   ]
  },
  {
   "cell_type": "code",
   "execution_count": 21,
   "metadata": {},
   "outputs": [
    {
     "data": {
      "text/plain": [
       "array([[ 0.        ,  0.        ,  0.        ],\n",
       "       [ 0.00284832, -0.00641182, -0.00490147],\n",
       "       [ 0.00714444, -0.01276205, -0.0097557 ],\n",
       "       ...,\n",
       "       [-0.13232672,  0.36242277,  0.27705432],\n",
       "       [-0.14313245,  0.36997547,  0.28282714],\n",
       "       [-0.22027597,  0.37492758,  0.28660494]])"
      ]
     },
     "execution_count": 21,
     "metadata": {},
     "output_type": "execute_result"
    }
   ],
   "source": [
    "output = net.forward(X_train)\n",
    "output"
   ]
  }
 ],
 "metadata": {
  "kernelspec": {
   "display_name": "Python 3",
   "language": "python",
   "name": "python3"
  },
  "language_info": {
   "codemirror_mode": {
    "name": "ipython",
    "version": 3
   },
   "file_extension": ".py",
   "mimetype": "text/x-python",
   "name": "python",
   "nbconvert_exporter": "python",
   "pygments_lexer": "ipython3",
   "version": "3.11.2"
  }
 },
 "nbformat": 4,
 "nbformat_minor": 2
}
