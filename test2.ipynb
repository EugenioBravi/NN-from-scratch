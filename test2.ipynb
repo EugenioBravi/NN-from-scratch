{
 "cells": [
  {
   "cell_type": "code",
   "execution_count": 11,
   "metadata": {},
   "outputs": [],
   "source": [
    "from typing import Type\n",
    "import random\n",
    "import numpy as np\n",
    "from nn import nn\n"
   ]
  },
  {
   "cell_type": "code",
   "execution_count": 12,
   "metadata": {},
   "outputs": [],
   "source": [
    "random.seed(12)\n",
    "net = nn.Network()\n",
    "layers = [nn.Layer(5,5),nn.Layer(5,5)]\n",
    "net.add_layer(layers)"
   ]
  },
  {
   "cell_type": "code",
   "execution_count": 13,
   "metadata": {},
   "outputs": [
    {
     "data": {
      "text/plain": [
       "array([[-6.2907,  6.4517,  5.4651,  1.2512,  1.1602],\n",
       "       [-6.2907,  6.4517,  5.4651,  1.2512,  1.1602],\n",
       "       [-1.6358,  1.1712,  0.7919,  0.2801, -0.3954],\n",
       "       [-1.6358,  1.1712,  0.7919,  0.2801, -0.3954]])"
      ]
     },
     "execution_count": 13,
     "metadata": {},
     "output_type": "execute_result"
    }
   ],
   "source": [
    "input = [[2,1,3,4,5],[2,1,3,4,5],[1,1,1,1,1],[1,1,1,1,1]]\n",
    "output = net.forward(input)\n",
    "output"
   ]
  }
 ],
 "metadata": {
  "kernelspec": {
   "display_name": "Python 3",
   "language": "python",
   "name": "python3"
  },
  "language_info": {
   "codemirror_mode": {
    "name": "ipython",
    "version": 3
   },
   "file_extension": ".py",
   "mimetype": "text/x-python",
   "name": "python",
   "nbconvert_exporter": "python",
   "pygments_lexer": "ipython3",
   "version": "3.11.2"
  }
 },
 "nbformat": 4,
 "nbformat_minor": 2
}
