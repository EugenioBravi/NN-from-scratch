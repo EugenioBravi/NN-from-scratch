{
 "cells": [
  {
   "cell_type": "code",
   "execution_count": 1,
   "metadata": {},
   "outputs": [],
   "source": [
    "from typing import Type\n",
    "import random\n",
    "import numpy as np\n",
    "import matplotlib.pyplot as plt\n",
    "\n",
    "from nn import nn\n",
    "from datasets import spiral_dataset, data_split\n"
   ]
  },
  {
   "cell_type": "code",
   "execution_count": 5,
   "metadata": {},
   "outputs": [],
   "source": [
    "X, y = spiral_dataset(150,3)\n",
    "X_train, X_test, y_train, y_test = data_split(X,y,0.8)\n",
    "#plt.scatter(X[:, 0], X[:, 1], c=y, cmap='brg')\n",
    "#plt.show()"
   ]
  },
  {
   "cell_type": "code",
   "execution_count": 3,
   "metadata": {},
   "outputs": [],
   "source": [
    "random.seed(12)\n",
    "net = nn.Network()\n",
    "layers = [nn.Layer(2,5),nn.Layer(5,3)]\n",
    "net.add_layer(layers)"
   ]
  },
  {
   "cell_type": "code",
   "execution_count": 4,
   "metadata": {},
   "outputs": [
    {
     "data": {
      "text/plain": [
       "array([[ 0.0504    , -0.7848    ,  0.4896    ],\n",
       "       [ 0.04976534, -0.78368415,  0.4827745 ],\n",
       "       [ 0.04639035, -0.7805336 ,  0.47859614],\n",
       "       ...,\n",
       "       [ 0.13826509, -0.88727973,  0.8344564 ],\n",
       "       [ 0.02732366, -0.80237978,  0.91248472],\n",
       "       [ 0.08541143, -0.84876132,  0.89388798]])"
      ]
     },
     "execution_count": 4,
     "metadata": {},
     "output_type": "execute_result"
    }
   ],
   "source": [
    "output = net.forward(X_train)\n",
    "output"
   ]
  }
 ],
 "metadata": {
  "kernelspec": {
   "display_name": "Python 3",
   "language": "python",
   "name": "python3"
  },
  "language_info": {
   "codemirror_mode": {
    "name": "ipython",
    "version": 3
   },
   "file_extension": ".py",
   "mimetype": "text/x-python",
   "name": "python",
   "nbconvert_exporter": "python",
   "pygments_lexer": "ipython3",
   "version": "3.11.2"
  }
 },
 "nbformat": 4,
 "nbformat_minor": 2
}
