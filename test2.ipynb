{
 "cells": [
  {
   "cell_type": "code",
   "execution_count": 87,
   "metadata": {},
   "outputs": [],
   "source": [
    "from typing import Type\n",
    "import random\n",
    "import numpy as np"
   ]
  },
  {
   "cell_type": "code",
   "execution_count": 88,
   "metadata": {},
   "outputs": [],
   "source": [
    "class Neuron():\n",
    "\n",
    "    def __init__(self,n_weights: int,bias : float = round(random.uniform(-10,10),2) ) -> None:\n",
    "\n",
    "        if type(n_weights) != int or n_weights <= 0 or n_weights >20 :\n",
    "            raise Exception('The param n_weights should be an int beetwen 1 and 20')\n",
    "\n",
    "        self.weights = [round(random.uniform(-10,10),2) for _ in range(n_weights)] \n",
    "        self.bias = bias\n",
    "\n",
    "    def forward(self,input : list[float]) -> list[float]:\n",
    "        if type(input) != list or len(input) != len(self.weights):\n",
    "            raise Exception(f'The input should be a list of len(weight)={self.n_weights}'\n",
    "                            )\n",
    "        output = np.dot(input,self.weights) + self.bias\n",
    "\n",
    "        return output"
   ]
  },
  {
   "cell_type": "code",
   "execution_count": 97,
   "metadata": {},
   "outputs": [],
   "source": [
    "class Layer():\n",
    "    def __init__(self,n_weights:int,n_neurons:int) -> None:\n",
    "        \n",
    "        if type(n_neurons) != int or n_neurons <= 0 or n_neurons >20 :\n",
    "            raise Exception('The param n_neurons should be an int beetwen 1 and 20')\n",
    "        if type(n_weights) != int or n_weights <= 0 or n_weights >20 :\n",
    "            raise Exception('The param n_weights should be an int beetwen 1 and 20')\n",
    "        \n",
    "        self.neurons=[Neuron(n_weights) for _ in range(n_neurons)]\n",
    "        self.n_weights = n_weights \n",
    "        \n",
    "    def forward(self,input:[[float]]) -> [float]:\n",
    "\n",
    "        if len(input[0]) != self.n_weights:\n",
    "            raise Exception(f'The input should be a list of len(weight)={self.n_weights}, {input[0]}')\n",
    "        \n",
    "        output = np.dot(input,self.get_weights().T)\n",
    "        return output\n",
    "    \n",
    "    def get_weights(self)->[[float]]:\n",
    "        weights = []\n",
    "        for neuron in self.neurons:\n",
    "            weights.append(neuron.weights)\n",
    "        return np.array(weights)\n",
    "        "
   ]
  },
  {
   "cell_type": "code",
   "execution_count": 98,
   "metadata": {},
   "outputs": [],
   "source": [
    "class Network():\n",
    "    def __init__(self) -> None:\n",
    "        self.layers = []\n",
    "        \n",
    "    #Allows adding one layer at a time at the end of the sequence of layers OR to replace the whole network of layers \n",
    "    def add_layer(self,layer:Type[Layer] or [Type[Layer]])->None:\n",
    "        if type(layer) == list:\n",
    "            self.layers = layer\n",
    "        else:\n",
    "            self.layers.append(layer)\n",
    "\n",
    "    def forward(self,input:[float]) -> [float]:\n",
    "        if type(input) != list:\n",
    "            raise Exception('The input should be a list')\n",
    "        layers_input = input\n",
    "        for layer in self.layers:\n",
    "            layers_input = layer.forward(layers_input)\n",
    "        return layers_input"
   ]
  },
  {
   "cell_type": "code",
   "execution_count": 99,
   "metadata": {},
   "outputs": [],
   "source": [
    "random.seed(12)\n",
    "net = Network()\n",
    "layers = [Layer(5,5),Layer(5,5),Layer(5,5),Layer(5,5)]\n",
    "net.add_layer(layers)"
   ]
  },
  {
   "cell_type": "code",
   "execution_count": 101,
   "metadata": {},
   "outputs": [
    {
     "data": {
      "text/plain": [
       "array([[-35186.81571296,  29999.28896375, -35603.59301324,\n",
       "         13041.84413891,   2402.0610613 ],\n",
       "       [-35186.81571296,  29999.28896375, -35603.59301324,\n",
       "         13041.84413891,   2402.0610613 ],\n",
       "       [ -8980.5624519 ,   2338.45722578,  -3944.16755771,\n",
       "         -1667.295602  ,  -1056.07481352],\n",
       "       [ -8980.5624519 ,   2338.45722578,  -3944.16755771,\n",
       "         -1667.295602  ,  -1056.07481352]])"
      ]
     },
     "execution_count": 101,
     "metadata": {},
     "output_type": "execute_result"
    }
   ],
   "source": [
    "input = [[2,1,3,4,5],[2,1,3,4,5],[1,1,1,1,1],[1,1,1,1,1]]\n",
    "output = net.forward(input)\n",
    "output"
   ]
  }
 ],
 "metadata": {
  "kernelspec": {
   "display_name": "Python 3",
   "language": "python",
   "name": "python3"
  },
  "language_info": {
   "codemirror_mode": {
    "name": "ipython",
    "version": 3
   },
   "file_extension": ".py",
   "mimetype": "text/x-python",
   "name": "python",
   "nbconvert_exporter": "python",
   "pygments_lexer": "ipython3",
   "version": "3.11.2"
  }
 },
 "nbformat": 4,
 "nbformat_minor": 2
}
