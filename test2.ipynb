{
 "cells": [
  {
   "cell_type": "code",
   "execution_count": 4,
   "metadata": {},
   "outputs": [],
   "source": [
    "import random\n",
    "inputs = [1,2,3]\n",
    "weights = [0.2, 0.8, -0.5]\n",
    "bias = 2"
   ]
  },
  {
   "cell_type": "code",
   "execution_count": 59,
   "metadata": {},
   "outputs": [],
   "source": [
    "class Neuron():\n",
    "\n",
    "    def __init__(self,n_weights: int,bias : float = round(random.uniform(-10,10),2) ) -> None:\n",
    "\n",
    "        if type(n_weights) != int or n_weights <= 0 or n_weights >20 :\n",
    "            raise Exception('The param n_weights should be an int beetwen 1 and 20')\n",
    "\n",
    "        self.weights = [round(random.uniform(-10,10),2) for _ in range(n_weights)] \n",
    "        self.bias = bias\n",
    "\n",
    "    def forward(self,input : list[float]) -> list[float]:\n",
    "        if type(input) != list or len(input) != len(self.weights):\n",
    "            raise Exception('The input should be a list of len(weight)')\n",
    "        output = bias\n",
    "        for input,weight in zip(input,self.weights):\n",
    "            output += input * weight\n",
    "\n",
    "        return output"
   ]
  },
  {
   "cell_type": "code",
   "execution_count": 68,
   "metadata": {},
   "outputs": [],
   "source": [
    "random.seed(10)\n",
    "n = Neuron(3)\n",
    "input2 = [round(random.uniform(-10,10),2) for _ in range(3)]"
   ]
  },
  {
   "cell_type": "code",
   "execution_count": 69,
   "metadata": {},
   "outputs": [
    {
     "name": "stdout",
     "output_type": "stream",
     "text": [
      "weights=[1.43, -1.42, 1.56]\n",
      "bias=-5.88\n",
      "input=[-5.88, 6.27, 6.47]\n",
      "output=-5.2186\n"
     ]
    }
   ],
   "source": [
    "output = n.forward(input2)\n",
    "print(f'weights={n.weights}\\nbias={n.bias}\\ninput={input2}')\n",
    "print(f'output={output}')"
   ]
  }
 ],
 "metadata": {
  "kernelspec": {
   "display_name": "Python 3",
   "language": "python",
   "name": "python3"
  },
  "language_info": {
   "codemirror_mode": {
    "name": "ipython",
    "version": 3
   },
   "file_extension": ".py",
   "mimetype": "text/x-python",
   "name": "python",
   "nbconvert_exporter": "python",
   "pygments_lexer": "ipython3",
   "version": "3.11.2"
  }
 },
 "nbformat": 4,
 "nbformat_minor": 2
}
