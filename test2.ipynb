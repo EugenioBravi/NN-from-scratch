{
 "cells": [
  {
   "cell_type": "code",
   "execution_count": 3,
   "metadata": {},
   "outputs": [],
   "source": [
    "from typing import Type\n",
    "import random\n",
    "import numpy as np"
   ]
  },
  {
   "cell_type": "code",
   "execution_count": 6,
   "metadata": {},
   "outputs": [],
   "source": [
    "class Network():\n",
    "    def __init__(self) -> None:\n",
    "        self.layers = []\n",
    "        \n",
    "    #Allows adding one layer at a time at the end of the sequence of layers OR to replace the whole network of layers \n",
    "    def add_layer(self,layer:Type[Layer] or [Type[Layer]])->None:\n",
    "        if type(layer) == list:\n",
    "            self.layers = layer\n",
    "        else:\n",
    "            self.layers.append(layer)\n",
    "\n",
    "    def forward(self,input:[float]) -> [float]:\n",
    "        if type(input) != list:\n",
    "            raise Exception('The input should be a list')\n",
    "        layers_input = input\n",
    "        for layer in self.layers:\n",
    "            layers_input = layer.forward(layers_input)\n",
    "        return layers_input"
   ]
  },
  {
   "cell_type": "code",
   "execution_count": 7,
   "metadata": {},
   "outputs": [],
   "source": [
    "random.seed(12)\n",
    "net = Network()\n",
    "layers = [Layer(5,5),Layer(5,5)]\n",
    "net.add_layer(layers)"
   ]
  },
  {
   "cell_type": "code",
   "execution_count": 8,
   "metadata": {},
   "outputs": [
    {
     "data": {
      "text/plain": [
       "array([[-5.0769,  6.1241,  5.3769,  1.4822,  2.3026],\n",
       "       [-5.0769,  6.1241,  5.3769,  1.4822,  2.3026],\n",
       "       [-0.422 ,  0.8436,  0.7037,  0.5111,  0.747 ],\n",
       "       [-0.422 ,  0.8436,  0.7037,  0.5111,  0.747 ]])"
      ]
     },
     "execution_count": 8,
     "metadata": {},
     "output_type": "execute_result"
    }
   ],
   "source": [
    "input = [[2,1,3,4,5],[2,1,3,4,5],[1,1,1,1,1],[1,1,1,1,1]]\n",
    "output = net.forward(input)\n",
    "output"
   ]
  }
 ],
 "metadata": {
  "kernelspec": {
   "display_name": "Python 3",
   "language": "python",
   "name": "python3"
  },
  "language_info": {
   "codemirror_mode": {
    "name": "ipython",
    "version": 3
   },
   "file_extension": ".py",
   "mimetype": "text/x-python",
   "name": "python",
   "nbconvert_exporter": "python",
   "pygments_lexer": "ipython3",
   "version": "3.11.2"
  }
 },
 "nbformat": 4,
 "nbformat_minor": 2
}
