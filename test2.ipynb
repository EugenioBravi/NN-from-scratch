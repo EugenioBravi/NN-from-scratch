{
 "cells": [
  {
   "cell_type": "code",
   "execution_count": 6,
   "metadata": {},
   "outputs": [],
   "source": [
    "import numpy as np\n",
    "import matplotlib.pyplot as plt\n",
    "\n",
    "from nn import nn, ac, loss, metrics, opt\n",
    "from datasets import spiral_dataset, data_split\n"
   ]
  },
  {
   "cell_type": "code",
   "execution_count": 7,
   "metadata": {},
   "outputs": [],
   "source": [
    "X, y = spiral_dataset(150,3)\n",
    "X_train, X_test, y_train, y_test = data_split(X,y,0.8)"
   ]
  },
  {
   "cell_type": "code",
   "execution_count": 8,
   "metadata": {},
   "outputs": [],
   "source": [
    "np.random.seed(0)\n",
    "loss = loss.Categorical_cross_entropy()\n",
    "net = nn.Network()\n",
    "layers = [nn.Layer(2,5),ac.ReLU(),nn.Layer(5,5),ac.ReLU(),nn.Layer(5,4),ac.softmax()]\n",
    "net.add_layer(layers)\n",
    "sgd = opt.Optimizer_SGD(net,0.1)"
   ]
  },
  {
   "cell_type": "code",
   "execution_count": null,
   "metadata": {},
   "outputs": [],
   "source": [
    "for epoch in range(1001):\n",
    "    y_pred = net.forward(X_train)\n",
    "    loss_train =loss.calculate(y_pred,y_train)\n",
    "    acc_train = metrics.accuracy(y_pred,y_train)\n",
    "    net.backward(loss.backward(y_pred,y_train))\n",
    "    sgd.step()\n",
    "    if epoch % 100 == 0:\n",
    "        print(f'epoch={epoch} ---- Loss= {loss_train:2f} ---- accuracy= {acc_train:2f}')"
   ]
  },
  {
   "cell_type": "code",
   "execution_count": null,
   "metadata": {},
   "outputs": [],
   "source": [
    "y_pred = net.forward(X_test)\n",
    "y_labels = np.argmax(y_pred,axis=1)\n",
    "plt.scatter(X_test[:, 0], X_test[:, 1], c=y_labels, cmap='brg')\n",
    "plt.show()"
   ]
  }
 ],
 "metadata": {
  "kernelspec": {
   "display_name": "Python 3",
   "language": "python",
   "name": "python3"
  },
  "language_info": {
   "codemirror_mode": {
    "name": "ipython",
    "version": 3
   },
   "file_extension": ".py",
   "mimetype": "text/x-python",
   "name": "python",
   "nbconvert_exporter": "python",
   "pygments_lexer": "ipython3",
   "version": "3.11.2"
  }
 },
 "nbformat": 4,
 "nbformat_minor": 2
}
