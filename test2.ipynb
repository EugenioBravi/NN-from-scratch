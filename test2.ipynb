{
 "cells": [
  {
   "cell_type": "code",
   "execution_count": 3,
   "metadata": {},
   "outputs": [],
   "source": [
    "from typing import Type\n",
    "import random\n",
    "import numpy as np"
   ]
  },
  {
   "cell_type": "code",
   "execution_count": 5,
   "metadata": {},
   "outputs": [],
   "source": [
    "class Layer():\n",
    "    def __init__(self,n_weights:int,n_neurons:int) -> None:\n",
    "        \n",
    "        if type(n_neurons) != int or n_neurons <= 0 or n_neurons >20 :\n",
    "            raise Exception('The param n_neurons should be an int beetwen 1 and 20')\n",
    "        if type(n_weights) != int or n_weights <= 0 or n_weights >20 :\n",
    "            raise Exception('The param n_weights should be an int beetwen 1 and 20')\n",
    "        \n",
    "        self.neurons=[Neuron(n_weights) for _ in range(n_neurons)]\n",
    "        self.n_weights = n_weights \n",
    "        \n",
    "    def forward(self,input:[[float]]) -> [float]:\n",
    "\n",
    "        if len(input[0]) != self.n_weights:\n",
    "            raise Exception(f'The input should be a list of len(weight)={self.n_weights}, {input[0]}')\n",
    "        \n",
    "        self.input = input\n",
    "        output = np.dot(input,self.get_weights()) + self.get_bias()\n",
    "        return output\n",
    "    \n",
    "    #Returns the traspose array of weights of the layer\n",
    "    def get_weights(self)->[[float]]:\n",
    "        weights = []\n",
    "        for neuron in self.neurons:\n",
    "            weights.append(neuron.weights)\n",
    "        return np.array(weights).T\n",
    "    \n",
    "    #Returns the array of bias of the layer\n",
    "    def get_bias(self)->[float]:\n",
    "        bias = []\n",
    "        for neuron in self.neurons:\n",
    "            bias.append(neuron.bias)\n",
    "        return np.array(bias)\n",
    "    \n",
    "    def backward(self,dvalues):\n",
    "        self.dweights = np.dot(self.inputs.T, dvalues)\n",
    "        self.dbiases = np.sum(dvalues, axis=0,keepdims=True)\n",
    "        self.dinputs = np.dot(dvalues, self.get_weights().T)\n",
    "    \n"
   ]
  },
  {
   "cell_type": "code",
   "execution_count": 6,
   "metadata": {},
   "outputs": [],
   "source": [
    "class Network():\n",
    "    def __init__(self) -> None:\n",
    "        self.layers = []\n",
    "        \n",
    "    #Allows adding one layer at a time at the end of the sequence of layers OR to replace the whole network of layers \n",
    "    def add_layer(self,layer:Type[Layer] or [Type[Layer]])->None:\n",
    "        if type(layer) == list:\n",
    "            self.layers = layer\n",
    "        else:\n",
    "            self.layers.append(layer)\n",
    "\n",
    "    def forward(self,input:[float]) -> [float]:\n",
    "        if type(input) != list:\n",
    "            raise Exception('The input should be a list')\n",
    "        layers_input = input\n",
    "        for layer in self.layers:\n",
    "            layers_input = layer.forward(layers_input)\n",
    "        return layers_input"
   ]
  },
  {
   "cell_type": "code",
   "execution_count": 7,
   "metadata": {},
   "outputs": [],
   "source": [
    "random.seed(12)\n",
    "net = Network()\n",
    "layers = [Layer(5,5),Layer(5,5)]\n",
    "net.add_layer(layers)"
   ]
  },
  {
   "cell_type": "code",
   "execution_count": 8,
   "metadata": {},
   "outputs": [
    {
     "data": {
      "text/plain": [
       "array([[-5.0769,  6.1241,  5.3769,  1.4822,  2.3026],\n",
       "       [-5.0769,  6.1241,  5.3769,  1.4822,  2.3026],\n",
       "       [-0.422 ,  0.8436,  0.7037,  0.5111,  0.747 ],\n",
       "       [-0.422 ,  0.8436,  0.7037,  0.5111,  0.747 ]])"
      ]
     },
     "execution_count": 8,
     "metadata": {},
     "output_type": "execute_result"
    }
   ],
   "source": [
    "input = [[2,1,3,4,5],[2,1,3,4,5],[1,1,1,1,1],[1,1,1,1,1]]\n",
    "output = net.forward(input)\n",
    "output"
   ]
  }
 ],
 "metadata": {
  "kernelspec": {
   "display_name": "Python 3",
   "language": "python",
   "name": "python3"
  },
  "language_info": {
   "codemirror_mode": {
    "name": "ipython",
    "version": 3
   },
   "file_extension": ".py",
   "mimetype": "text/x-python",
   "name": "python",
   "nbconvert_exporter": "python",
   "pygments_lexer": "ipython3",
   "version": "3.11.2"
  }
 },
 "nbformat": 4,
 "nbformat_minor": 2
}
